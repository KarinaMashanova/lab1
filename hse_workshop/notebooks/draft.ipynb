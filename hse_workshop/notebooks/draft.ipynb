{
 "cells": [
  {
   "cell_type": "code",
   "execution_count": 265,
   "metadata": {},
   "outputs": [],
   "source": [
    "import pandas as pd\n",
    "import numpy as np\n",
    "import seaborn as sns\n",
    "from matplotlib import pyplot as plt\n",
    "from sklearn.linear_model import LogisticRegression\n",
    "from sklearn.multioutput import MultiOutputClassifier\n",
    "import os\n",
    "from src import utils "
   ]
  },
  {
   "cell_type": "markdown",
   "metadata": {},
   "source": [
    "# preprocessing"
   ]
  },
  {
   "cell_type": "code",
   "execution_count": 266,
   "metadata": {},
   "outputs": [],
   "source": [
    "raw_path = '../data/raw/'\n",
    "train = pd.read_csv(os.path.join(raw_path, 'train.csv'))\n",
    "test = pd.read_csv(os.path.join(raw_path, 'test.csv'))"
   ]
  },
  {
   "cell_type": "code",
   "execution_count": 267,
   "metadata": {},
   "outputs": [
    {
     "data": {
      "text/html": [
       "<div>\n",
       "<style scoped>\n",
       "    .dataframe tbody tr th:only-of-type {\n",
       "        vertical-align: middle;\n",
       "    }\n",
       "\n",
       "    .dataframe tbody tr th {\n",
       "        vertical-align: top;\n",
       "    }\n",
       "\n",
       "    .dataframe thead th {\n",
       "        text-align: right;\n",
       "    }\n",
       "</style>\n",
       "<table border=\"1\" class=\"dataframe\">\n",
       "  <thead>\n",
       "    <tr style=\"text-align: right;\">\n",
       "      <th></th>\n",
       "      <th>ID</th>\n",
       "      <th>Пол</th>\n",
       "      <th>Семья</th>\n",
       "      <th>Этнос</th>\n",
       "      <th>Национальность</th>\n",
       "      <th>Религия</th>\n",
       "      <th>Образование</th>\n",
       "      <th>Профессия</th>\n",
       "      <th>Вы работаете?</th>\n",
       "      <th>Выход на пенсию</th>\n",
       "      <th>...</th>\n",
       "      <th>Время пробуждения</th>\n",
       "      <th>Сон после обеда</th>\n",
       "      <th>Спорт, клубы</th>\n",
       "      <th>Религия, клубы</th>\n",
       "      <th>ID_y</th>\n",
       "      <th>Артериальная гипертензия</th>\n",
       "      <th>ОНМК</th>\n",
       "      <th>Стенокардия, ИБС, инфаркт миокарда</th>\n",
       "      <th>Сердечная недостаточность</th>\n",
       "      <th>Прочие заболевания сердца</th>\n",
       "    </tr>\n",
       "  </thead>\n",
       "  <tbody>\n",
       "    <tr>\n",
       "      <th>0</th>\n",
       "      <td>54-102-358-02</td>\n",
       "      <td>М</td>\n",
       "      <td>в браке в настоящее время</td>\n",
       "      <td>европейская</td>\n",
       "      <td>Русские</td>\n",
       "      <td>Христианство</td>\n",
       "      <td>3 - средняя школа / закон.среднее / выше среднего</td>\n",
       "      <td>низкоквалифицированные работники</td>\n",
       "      <td>1</td>\n",
       "      <td>0</td>\n",
       "      <td>...</td>\n",
       "      <td>06:00:00</td>\n",
       "      <td>0</td>\n",
       "      <td>0</td>\n",
       "      <td>0</td>\n",
       "      <td>54-102-358-02</td>\n",
       "      <td>0</td>\n",
       "      <td>0</td>\n",
       "      <td>0</td>\n",
       "      <td>0</td>\n",
       "      <td>0</td>\n",
       "    </tr>\n",
       "    <tr>\n",
       "      <th>1</th>\n",
       "      <td>54-103-101-01</td>\n",
       "      <td>Ж</td>\n",
       "      <td>в разводе</td>\n",
       "      <td>европейская</td>\n",
       "      <td>Русские</td>\n",
       "      <td>Христианство</td>\n",
       "      <td>5 - ВУЗ</td>\n",
       "      <td>дипломированные специалисты</td>\n",
       "      <td>0</td>\n",
       "      <td>0</td>\n",
       "      <td>...</td>\n",
       "      <td>04:00:00</td>\n",
       "      <td>1</td>\n",
       "      <td>0</td>\n",
       "      <td>0</td>\n",
       "      <td>54-103-101-01</td>\n",
       "      <td>1</td>\n",
       "      <td>1</td>\n",
       "      <td>0</td>\n",
       "      <td>0</td>\n",
       "      <td>0</td>\n",
       "    </tr>\n",
       "    <tr>\n",
       "      <th>2</th>\n",
       "      <td>54-501-026-03</td>\n",
       "      <td>Ж</td>\n",
       "      <td>в браке в настоящее время</td>\n",
       "      <td>европейская</td>\n",
       "      <td>Русские</td>\n",
       "      <td>Христианство</td>\n",
       "      <td>5 - ВУЗ</td>\n",
       "      <td>дипломированные специалисты</td>\n",
       "      <td>0</td>\n",
       "      <td>0</td>\n",
       "      <td>...</td>\n",
       "      <td>07:00:00</td>\n",
       "      <td>0</td>\n",
       "      <td>0</td>\n",
       "      <td>0</td>\n",
       "      <td>54-501-026-03</td>\n",
       "      <td>0</td>\n",
       "      <td>0</td>\n",
       "      <td>0</td>\n",
       "      <td>0</td>\n",
       "      <td>0</td>\n",
       "    </tr>\n",
       "    <tr>\n",
       "      <th>3</th>\n",
       "      <td>54-501-094-02</td>\n",
       "      <td>М</td>\n",
       "      <td>в браке в настоящее время</td>\n",
       "      <td>европейская</td>\n",
       "      <td>Русские</td>\n",
       "      <td>Атеист / агностик</td>\n",
       "      <td>3 - средняя школа / закон.среднее / выше среднего</td>\n",
       "      <td>низкоквалифицированные работники</td>\n",
       "      <td>1</td>\n",
       "      <td>0</td>\n",
       "      <td>...</td>\n",
       "      <td>07:00:00</td>\n",
       "      <td>0</td>\n",
       "      <td>0</td>\n",
       "      <td>0</td>\n",
       "      <td>54-501-094-02</td>\n",
       "      <td>1</td>\n",
       "      <td>0</td>\n",
       "      <td>0</td>\n",
       "      <td>0</td>\n",
       "      <td>0</td>\n",
       "    </tr>\n",
       "    <tr>\n",
       "      <th>4</th>\n",
       "      <td>54-503-022-01</td>\n",
       "      <td>Ж</td>\n",
       "      <td>в браке в настоящее время</td>\n",
       "      <td>европейская</td>\n",
       "      <td>Русские</td>\n",
       "      <td>Христианство</td>\n",
       "      <td>3 - средняя школа / закон.среднее / выше среднего</td>\n",
       "      <td>операторы и монтажники установок и машинного о...</td>\n",
       "      <td>0</td>\n",
       "      <td>0</td>\n",
       "      <td>...</td>\n",
       "      <td>06:00:00</td>\n",
       "      <td>0</td>\n",
       "      <td>0</td>\n",
       "      <td>0</td>\n",
       "      <td>54-503-022-01</td>\n",
       "      <td>1</td>\n",
       "      <td>0</td>\n",
       "      <td>1</td>\n",
       "      <td>1</td>\n",
       "      <td>0</td>\n",
       "    </tr>\n",
       "  </tbody>\n",
       "</table>\n",
       "<p>5 rows × 39 columns</p>\n",
       "</div>"
      ],
      "text/plain": [
       "              ID Пол                      Семья        Этнос Национальность  \\\n",
       "0  54-102-358-02   М  в браке в настоящее время  европейская        Русские   \n",
       "1  54-103-101-01   Ж                  в разводе  европейская        Русские   \n",
       "2  54-501-026-03   Ж  в браке в настоящее время  европейская        Русские   \n",
       "3  54-501-094-02   М  в браке в настоящее время  европейская        Русские   \n",
       "4  54-503-022-01   Ж  в браке в настоящее время  европейская        Русские   \n",
       "\n",
       "             Религия                                        Образование  \\\n",
       "0       Христианство  3 - средняя школа / закон.среднее / выше среднего   \n",
       "1       Христианство                                            5 - ВУЗ   \n",
       "2       Христианство                                            5 - ВУЗ   \n",
       "3  Атеист / агностик  3 - средняя школа / закон.среднее / выше среднего   \n",
       "4       Христианство  3 - средняя школа / закон.среднее / выше среднего   \n",
       "\n",
       "                                           Профессия  Вы работаете?  \\\n",
       "0                   низкоквалифицированные работники              1   \n",
       "1                        дипломированные специалисты              0   \n",
       "2                        дипломированные специалисты              0   \n",
       "3                   низкоквалифицированные работники              1   \n",
       "4  операторы и монтажники установок и машинного о...              0   \n",
       "\n",
       "   Выход на пенсию  ...  Время пробуждения  Сон после обеда  Спорт, клубы  \\\n",
       "0                0  ...           06:00:00                0             0   \n",
       "1                0  ...           04:00:00                1             0   \n",
       "2                0  ...           07:00:00                0             0   \n",
       "3                0  ...           07:00:00                0             0   \n",
       "4                0  ...           06:00:00                0             0   \n",
       "\n",
       "   Религия, клубы           ID_y  Артериальная гипертензия  ОНМК  \\\n",
       "0               0  54-102-358-02                         0     0   \n",
       "1               0  54-103-101-01                         1     1   \n",
       "2               0  54-501-026-03                         0     0   \n",
       "3               0  54-501-094-02                         1     0   \n",
       "4               0  54-503-022-01                         1     0   \n",
       "\n",
       "   Стенокардия, ИБС, инфаркт миокарда  Сердечная недостаточность  \\\n",
       "0                                   0                          0   \n",
       "1                                   0                          0   \n",
       "2                                   0                          0   \n",
       "3                                   0                          0   \n",
       "4                                   1                          1   \n",
       "\n",
       "   Прочие заболевания сердца  \n",
       "0                          0  \n",
       "1                          0  \n",
       "2                          0  \n",
       "3                          0  \n",
       "4                          0  \n",
       "\n",
       "[5 rows x 39 columns]"
      ]
     },
     "execution_count": 267,
     "metadata": {},
     "output_type": "execute_result"
    }
   ],
   "source": [
    "train.head()"
   ]
  },
  {
   "cell_type": "code",
   "execution_count": 268,
   "metadata": {},
   "outputs": [
    {
     "name": "stdout",
     "output_type": "stream",
     "text": [
      "<class 'pandas.core.frame.DataFrame'>\n",
      "RangeIndex: 955 entries, 0 to 954\n",
      "Data columns (total 39 columns):\n",
      " #   Column                                 Non-Null Count  Dtype  \n",
      "---  ------                                 --------------  -----  \n",
      " 0   ID                                     955 non-null    object \n",
      " 1   Пол                                    954 non-null    object \n",
      " 2   Семья                                  955 non-null    object \n",
      " 3   Этнос                                  955 non-null    object \n",
      " 4   Национальность                         955 non-null    object \n",
      " 5   Религия                                955 non-null    object \n",
      " 6   Образование                            955 non-null    object \n",
      " 7   Профессия                              955 non-null    object \n",
      " 8   Вы работаете?                          955 non-null    int64  \n",
      " 9   Выход на пенсию                        955 non-null    int64  \n",
      " 10  Прекращение работы по болезни          955 non-null    int64  \n",
      " 11  Сахарный диабет                        955 non-null    int64  \n",
      " 12  Гепатит                                955 non-null    int64  \n",
      " 13  Онкология                              955 non-null    int64  \n",
      " 14  Хроническое заболевание легких         955 non-null    int64  \n",
      " 15  Бронжиальная астма                     955 non-null    int64  \n",
      " 16  Туберкулез легких                      955 non-null    int64  \n",
      " 17  ВИЧ/СПИД                               955 non-null    int64  \n",
      " 18  Регулярный прим лекарственных средств  955 non-null    int64  \n",
      " 19  Травмы за год                          955 non-null    int64  \n",
      " 20  Переломы                               955 non-null    int64  \n",
      " 21  Статус Курения                         955 non-null    object \n",
      " 22  Возраст курения                        412 non-null    float64\n",
      " 23  Сигарет в день                         409 non-null    float64\n",
      " 24  Пассивное курение                      955 non-null    int64  \n",
      " 25  Частота пасс кур                       223 non-null    object \n",
      " 26  Алкоголь                               955 non-null    object \n",
      " 27  Возраст алког                          788 non-null    float64\n",
      " 28  Время засыпания                        955 non-null    object \n",
      " 29  Время пробуждения                      955 non-null    object \n",
      " 30  Сон после обеда                        955 non-null    int64  \n",
      " 31  Спорт, клубы                           955 non-null    int64  \n",
      " 32  Религия, клубы                         955 non-null    int64  \n",
      " 33  ID_y                                   955 non-null    object \n",
      " 34  Артериальная гипертензия               955 non-null    int64  \n",
      " 35  ОНМК                                   955 non-null    int64  \n",
      " 36  Стенокардия, ИБС, инфаркт миокарда     955 non-null    int64  \n",
      " 37  Сердечная недостаточность              955 non-null    int64  \n",
      " 38  Прочие заболевания сердца              955 non-null    int64  \n",
      "dtypes: float64(3), int64(22), object(14)\n",
      "memory usage: 291.1+ KB\n"
     ]
    }
   ],
   "source": [
    "train.info()"
   ]
  },
  {
   "cell_type": "code",
   "execution_count": 269,
   "metadata": {},
   "outputs": [],
   "source": [
    "TARGET_COLS = ['Артериальная гипертензия', 'ОНМК', 'Стенокардия, ИБС, инфаркт миокарда', 'Сердечная недостаточность', 'Прочие заболевания сердца']\n",
    "ID_COL = 'ID'\n",
    "EDU_COL = 'Образование'\n",
    "SEX_COL = 'Пол'\n",
    "CAT_COLS = [\n",
    "    'Пол', 'Семья', 'Этнос', 'Национальность', 'Религия', 'Образование', \n",
    "    'Профессия', 'Статус Курения', 'Частота пасс кур', 'Алкоголь',\n",
    "    'Время засыпания', 'Время пробуждения'\n",
    "]\n",
    "OHE_COLS = [\n",
    "    'Пол', 'Вы работаете?', 'Выход на пенсию', 'Прекращение работы по болезни', 'Сахарный диабет', 'Гепатит',\n",
    "    'Онкология', 'Хроническое заболевание легких', 'Бронжиальная астма', 'Туберкулез легких ', 'ВИЧ/СПИД',\n",
    "    'Регулярный прим лекарственных средств', 'Травмы за год', 'Переломы','Пассивное курение', 'Сон после обеда', \n",
    "    'Спорт, клубы', 'Религия, клубы'\n",
    "]\n",
    "REAL_COLS = ['Возраст курения', 'Сигарет в день', 'Возраст алког']"
   ]
  },
  {
   "cell_type": "code",
   "execution_count": 270,
   "metadata": {},
   "outputs": [
    {
     "data": {
      "text/plain": [
       "4"
      ]
     },
     "execution_count": 270,
     "metadata": {},
     "output_type": "execute_result"
    }
   ],
   "source": [
    "train[TARGET_COLS].sum(1).max()"
   ]
  },
  {
   "cell_type": "code",
   "execution_count": 271,
   "metadata": {},
   "outputs": [],
   "source": [
    "def drop_unnecesary_id(df: pd.DataFrame) -> pd.DataFrame:\n",
    "    if 'ID_y' in df.columns:\n",
    "        df = df.drop('ID_y', axis=1)\n",
    "    return df"
   ]
  },
  {
   "cell_type": "code",
   "execution_count": 272,
   "metadata": {},
   "outputs": [],
   "source": [
    "def add_ord_edu(df: pd.DataFrame) -> pd.DataFrame:\n",
    "    df[f'{EDU_COL}_ord'] = df[EDU_COL].str.slice(0, 1).astype(np.int8).values\n",
    "    return df"
   ]
  },
  {
   "cell_type": "code",
   "execution_count": 273,
   "metadata": {},
   "outputs": [],
   "source": [
    "train = add_ord_edu(train)\n",
    "test = add_ord_edu(test)"
   ]
  },
  {
   "cell_type": "code",
   "execution_count": 274,
   "metadata": {},
   "outputs": [],
   "source": [
    "train = train.set_index(ID_COL)\n",
    "test = test.set_index(ID_COL)"
   ]
  },
  {
   "cell_type": "code",
   "execution_count": 275,
   "metadata": {},
   "outputs": [],
   "source": [
    "def set_idx(df: pd.DataFrame, idx_col: str) -> pd.DataFrame:\n",
    "    df = df.set_index(idx_col)\n",
    "    return df"
   ]
  },
  {
   "cell_type": "code",
   "execution_count": 276,
   "metadata": {},
   "outputs": [],
   "source": [
    "train, target = train.drop(TARGET_COLS, axis=1), train[TARGET_COLS]"
   ]
  },
  {
   "cell_type": "code",
   "execution_count": 277,
   "metadata": {},
   "outputs": [],
   "source": [
    "train = drop_unnecesary_id(train)"
   ]
  },
  {
   "cell_type": "code",
   "execution_count": 278,
   "metadata": {},
   "outputs": [],
   "source": [
    "def fill_sex(df: pd.DataFrame) -> pd.DataFrame:\n",
    "    most_freq = df[SEX_COL].value_counts().index[0]\n",
    "    df[SEX_COL] = df[SEX_COL].fillna(most_freq)\n",
    "    return df"
   ]
  },
  {
   "cell_type": "code",
   "execution_count": 279,
   "metadata": {},
   "outputs": [],
   "source": [
    "def cast_types(df: pd.DataFrame) -> pd.DataFrame:\n",
    "    df[CAT_COLS] = df[CAT_COLS].astype('category')\n",
    "\n",
    "    ohe_int_cols = train[OHE_COLS].select_dtypes('number').columns\n",
    "    df[ohe_int_cols] = df[ohe_int_cols].astype(np.int8)\n",
    "\n",
    "    df[REAL_COLS] = df[REAL_COLS].astype(np.float32)\n",
    "    return df\n",
    "    "
   ]
  },
  {
   "cell_type": "code",
   "execution_count": 280,
   "metadata": {},
   "outputs": [],
   "source": [
    "def preprocess(df: pd.DataFrame) -> pd.DataFrame:\n",
    "    df = set_idx(df, ID_COL)\n",
    "    df = drop_unnecesary_id(df)\n",
    "    df = fill_sex(df)\n",
    "    df = cast_types(df)\n",
    "    return df\n",
    "    \n",
    "    "
   ]
  },
  {
   "cell_type": "markdown",
   "metadata": {},
   "source": [
    "# MODELING"
   ]
  },
  {
   "cell_type": "code",
   "execution_count": 281,
   "metadata": {},
   "outputs": [],
   "source": [
    "import os\n",
    "import pandas as pd\n",
    "import numpy as np"
   ]
  },
  {
   "cell_type": "code",
   "execution_count": 282,
   "metadata": {},
   "outputs": [],
   "source": [
    "from sklearn.svm import *\n",
    "from sklearn.model_selection import *\n",
    "from sklearn.preprocessing import *\n",
    "from sklearn.compose import *\n",
    "from sklearn.pipeline import *\n",
    "from sklearn.metrics import *\n",
    "from sklearn.impute import *\n",
    "from sklearn.multioutput import *"
   ]
  },
  {
   "cell_type": "code",
   "execution_count": 283,
   "metadata": {},
   "outputs": [],
   "source": [
    "import src.config as cfg"
   ]
  },
  {
   "cell_type": "code",
   "execution_count": 284,
   "metadata": {},
   "outputs": [],
   "source": [
    "processed_data_path = '../data/processed'\n",
    "train = pd.read_pickle(os.path.join(processed_data_path, 'train.pkl'))\n",
    "target = pd.read_pickle(os.path.join(processed_data_path, 'target.pkl'))"
   ]
  },
  {
   "cell_type": "markdown",
   "metadata": {},
   "source": [
    "Метрики"
   ]
  },
  {
   "cell_type": "markdown",
   "metadata": {},
   "source": [
    "Для реализации лабораторной работы(для мультилейбла) была выбрана метрика precision - доля объектов, названная классификатором положительными, при этом являющимися положительными. Также можно найти Recall - это доля объектов, которые мы предсказали правильно, являющаяся действительно правильной. Но в решении данной задачи более важная метрика является Recall , чтобы не пропустить данные. Если брать взвешенную оценку precision и recall, то можно попробовать найти f-beta, но следует отдавать большее значение recall."
   ]
  },
  {
   "cell_type": "code",
   "execution_count": 285,
   "metadata": {},
   "outputs": [
    {
     "data": {
      "text/html": [
       "<div>\n",
       "<style scoped>\n",
       "    .dataframe tbody tr th:only-of-type {\n",
       "        vertical-align: middle;\n",
       "    }\n",
       "\n",
       "    .dataframe tbody tr th {\n",
       "        vertical-align: top;\n",
       "    }\n",
       "\n",
       "    .dataframe thead th {\n",
       "        text-align: right;\n",
       "    }\n",
       "</style>\n",
       "<table border=\"1\" class=\"dataframe\">\n",
       "  <thead>\n",
       "    <tr style=\"text-align: right;\">\n",
       "      <th></th>\n",
       "      <th>Артериальная гипертензия</th>\n",
       "      <th>ОНМК</th>\n",
       "      <th>Стенокардия, ИБС, инфаркт миокарда</th>\n",
       "      <th>Сердечная недостаточность</th>\n",
       "      <th>Прочие заболевания сердца</th>\n",
       "    </tr>\n",
       "    <tr>\n",
       "      <th>ID</th>\n",
       "      <th></th>\n",
       "      <th></th>\n",
       "      <th></th>\n",
       "      <th></th>\n",
       "      <th></th>\n",
       "    </tr>\n",
       "  </thead>\n",
       "  <tbody>\n",
       "    <tr>\n",
       "      <th>54-102-358-02</th>\n",
       "      <td>0</td>\n",
       "      <td>0</td>\n",
       "      <td>0</td>\n",
       "      <td>0</td>\n",
       "      <td>0</td>\n",
       "    </tr>\n",
       "    <tr>\n",
       "      <th>54-103-101-01</th>\n",
       "      <td>1</td>\n",
       "      <td>1</td>\n",
       "      <td>0</td>\n",
       "      <td>0</td>\n",
       "      <td>0</td>\n",
       "    </tr>\n",
       "    <tr>\n",
       "      <th>54-501-026-03</th>\n",
       "      <td>0</td>\n",
       "      <td>0</td>\n",
       "      <td>0</td>\n",
       "      <td>0</td>\n",
       "      <td>0</td>\n",
       "    </tr>\n",
       "    <tr>\n",
       "      <th>54-501-094-02</th>\n",
       "      <td>1</td>\n",
       "      <td>0</td>\n",
       "      <td>0</td>\n",
       "      <td>0</td>\n",
       "      <td>0</td>\n",
       "    </tr>\n",
       "    <tr>\n",
       "      <th>54-503-022-01</th>\n",
       "      <td>1</td>\n",
       "      <td>0</td>\n",
       "      <td>1</td>\n",
       "      <td>1</td>\n",
       "      <td>0</td>\n",
       "    </tr>\n",
       "  </tbody>\n",
       "</table>\n",
       "</div>"
      ],
      "text/plain": [
       "               Артериальная гипертензия  ОНМК  \\\n",
       "ID                                              \n",
       "54-102-358-02                         0     0   \n",
       "54-103-101-01                         1     1   \n",
       "54-501-026-03                         0     0   \n",
       "54-501-094-02                         1     0   \n",
       "54-503-022-01                         1     0   \n",
       "\n",
       "               Стенокардия, ИБС, инфаркт миокарда  Сердечная недостаточность  \\\n",
       "ID                                                                             \n",
       "54-102-358-02                                   0                          0   \n",
       "54-103-101-01                                   0                          0   \n",
       "54-501-026-03                                   0                          0   \n",
       "54-501-094-02                                   0                          0   \n",
       "54-503-022-01                                   1                          1   \n",
       "\n",
       "               Прочие заболевания сердца  \n",
       "ID                                        \n",
       "54-102-358-02                          0  \n",
       "54-103-101-01                          0  \n",
       "54-501-026-03                          0  \n",
       "54-501-094-02                          0  \n",
       "54-503-022-01                          0  "
      ]
     },
     "execution_count": 285,
     "metadata": {},
     "output_type": "execute_result"
    }
   ],
   "source": [
    "target.head()"
   ]
  },
  {
   "cell_type": "code",
   "execution_count": 286,
   "metadata": {},
   "outputs": [
    {
     "data": {
      "text/plain": [
       "Артериальная гипертензия              0.467016\n",
       "ОНМК                                  0.042932\n",
       "Стенокардия, ИБС, инфаркт миокарда    0.122513\n",
       "Сердечная недостаточность             0.100524\n",
       "Прочие заболевания сердца             0.090052\n",
       "dtype: float64"
      ]
     },
     "execution_count": 286,
     "metadata": {},
     "output_type": "execute_result"
    }
   ],
   "source": [
    "target.sum() / len(target)"
   ]
  },
  {
   "cell_type": "code",
   "execution_count": 287,
   "metadata": {},
   "outputs": [],
   "source": [
    "y_true = np.array([1] * 9 +[0])\n",
    "y_pred = np.array([0]*2 +[1]*8)"
   ]
  },
  {
   "cell_type": "code",
   "execution_count": 288,
   "metadata": {},
   "outputs": [
    {
     "data": {
      "text/plain": [
       "0.7"
      ]
     },
     "execution_count": 288,
     "metadata": {},
     "output_type": "execute_result"
    }
   ],
   "source": [
    "np.sum((y_true == y_pred)) / len(y_true)"
   ]
  },
  {
   "cell_type": "code",
   "execution_count": 289,
   "metadata": {},
   "outputs": [
    {
     "data": {
      "text/plain": [
       "0.875"
      ]
     },
     "execution_count": 289,
     "metadata": {},
     "output_type": "execute_result"
    }
   ],
   "source": [
    "#Precision\n",
    "mask = y_pred == True\n",
    "np.sum(y_true[mask] == y_pred[mask] )/ np.sum(mask)"
   ]
  },
  {
   "cell_type": "code",
   "execution_count": 290,
   "metadata": {},
   "outputs": [
    {
     "data": {
      "text/plain": [
       "0.7777777777777778"
      ]
     },
     "execution_count": 290,
     "metadata": {},
     "output_type": "execute_result"
    }
   ],
   "source": [
    "#Recall\n",
    "mask = y_true == True\n",
    "np.sum(y_true[mask] == y_pred[mask] )/ np.sum(mask)"
   ]
  },
  {
   "cell_type": "code",
   "execution_count": 291,
   "metadata": {},
   "outputs": [
    {
     "data": {
      "text/plain": [
       "0.7777777777777778"
      ]
     },
     "execution_count": 291,
     "metadata": {},
     "output_type": "execute_result"
    }
   ],
   "source": [
    "recall_score(y_true,y_pred)"
   ]
  },
  {
   "cell_type": "code",
   "execution_count": 292,
   "metadata": {},
   "outputs": [],
   "source": [
    "from functools import partial"
   ]
  },
  {
   "cell_type": "code",
   "execution_count": 293,
   "metadata": {},
   "outputs": [],
   "source": [
    "scoping = partial(fbeta_score, beta=2.0)"
   ]
  },
  {
   "cell_type": "code",
   "execution_count": 294,
   "metadata": {},
   "outputs": [
    {
     "data": {
      "text/plain": [
       "0.7954545454545454"
      ]
     },
     "execution_count": 294,
     "metadata": {},
     "output_type": "execute_result"
    }
   ],
   "source": [
    "scoping(y_true,y_pred)"
   ]
  },
  {
   "cell_type": "markdown",
   "metadata": {},
   "source": [
    "Валидационная выборка"
   ]
  },
  {
   "cell_type": "code",
   "execution_count": 295,
   "metadata": {},
   "outputs": [],
   "source": [
    "import pickle"
   ]
  },
  {
   "cell_type": "code",
   "execution_count": 296,
   "metadata": {},
   "outputs": [],
   "source": [
    "RS = 77"
   ]
  },
  {
   "cell_type": "code",
   "execution_count": 297,
   "metadata": {},
   "outputs": [],
   "source": [
    "train = pd.read_pickle(os.path.join(processed_data_path, 'train.pkl'))\n",
    "target = pd.read_pickle(os.path.join(processed_data_path, 'target.pkl'))"
   ]
  },
  {
   "cell_type": "code",
   "execution_count": 298,
   "metadata": {},
   "outputs": [],
   "source": [
    "train[cfg.CAT_COLS] = train[cfg.CAT_COLS].astype('object')"
   ]
  },
  {
   "cell_type": "code",
   "execution_count": 299,
   "metadata": {},
   "outputs": [],
   "source": [
    "train_data, val_data, train_target, val_target = train_test_split(train, target, train_size=0.8, random_state=RS)"
   ]
  },
  {
   "cell_type": "code",
   "execution_count": 300,
   "metadata": {},
   "outputs": [],
   "source": [
    "train_idx, val_idx = train_test_split(\n",
    "        train.index, test_size=0.2, random_state=7)"
   ]
  },
  {
   "cell_type": "code",
   "execution_count": 301,
   "metadata": {},
   "outputs": [],
   "source": [
    "val_idx.to_frame().to_pickle('temp.pkl')"
   ]
  },
  {
   "cell_type": "code",
   "execution_count": 302,
   "metadata": {},
   "outputs": [],
   "source": [
    "with open('tmp2.pkl', 'wb') as f:\n",
    "    pickle.dump(val_idx, f)"
   ]
  },
  {
   "cell_type": "code",
   "execution_count": 303,
   "metadata": {},
   "outputs": [],
   "source": [
    "with open('tmp2.pkl', 'rb') as f:\n",
    "    val_idx2 = pickle.load(f)"
   ]
  },
  {
   "cell_type": "code",
   "execution_count": 304,
   "metadata": {},
   "outputs": [
    {
     "data": {
      "text/html": [
       "<div>\n",
       "<style scoped>\n",
       "    .dataframe tbody tr th:only-of-type {\n",
       "        vertical-align: middle;\n",
       "    }\n",
       "\n",
       "    .dataframe tbody tr th {\n",
       "        vertical-align: top;\n",
       "    }\n",
       "\n",
       "    .dataframe thead th {\n",
       "        text-align: right;\n",
       "    }\n",
       "</style>\n",
       "<table border=\"1\" class=\"dataframe\">\n",
       "  <thead>\n",
       "    <tr style=\"text-align: right;\">\n",
       "      <th></th>\n",
       "      <th>Пол</th>\n",
       "      <th>Семья</th>\n",
       "      <th>Этнос</th>\n",
       "      <th>Национальность</th>\n",
       "      <th>Религия</th>\n",
       "      <th>Образование</th>\n",
       "      <th>Профессия</th>\n",
       "      <th>Вы работаете?</th>\n",
       "      <th>Выход на пенсию</th>\n",
       "      <th>Прекращение работы по болезни</th>\n",
       "      <th>...</th>\n",
       "      <th>Сигарет в день</th>\n",
       "      <th>Пассивное курение</th>\n",
       "      <th>Частота пасс кур</th>\n",
       "      <th>Алкоголь</th>\n",
       "      <th>Возраст алког</th>\n",
       "      <th>Время засыпания</th>\n",
       "      <th>Время пробуждения</th>\n",
       "      <th>Сон после обеда</th>\n",
       "      <th>Спорт, клубы</th>\n",
       "      <th>Религия, клубы</th>\n",
       "    </tr>\n",
       "    <tr>\n",
       "      <th>ID</th>\n",
       "      <th></th>\n",
       "      <th></th>\n",
       "      <th></th>\n",
       "      <th></th>\n",
       "      <th></th>\n",
       "      <th></th>\n",
       "      <th></th>\n",
       "      <th></th>\n",
       "      <th></th>\n",
       "      <th></th>\n",
       "      <th></th>\n",
       "      <th></th>\n",
       "      <th></th>\n",
       "      <th></th>\n",
       "      <th></th>\n",
       "      <th></th>\n",
       "      <th></th>\n",
       "      <th></th>\n",
       "      <th></th>\n",
       "      <th></th>\n",
       "      <th></th>\n",
       "    </tr>\n",
       "  </thead>\n",
       "  <tbody>\n",
       "    <tr>\n",
       "      <th>54-103-054-01</th>\n",
       "      <td>Ж</td>\n",
       "      <td>в браке в настоящее время</td>\n",
       "      <td>европейская</td>\n",
       "      <td>Русские</td>\n",
       "      <td>Христианство</td>\n",
       "      <td>5 - ВУЗ</td>\n",
       "      <td>дипломированные специалисты</td>\n",
       "      <td>1</td>\n",
       "      <td>0</td>\n",
       "      <td>0</td>\n",
       "      <td>...</td>\n",
       "      <td>NaN</td>\n",
       "      <td>0</td>\n",
       "      <td>NaN</td>\n",
       "      <td>употребляю в настоящее время</td>\n",
       "      <td>26.0</td>\n",
       "      <td>22:00:00</td>\n",
       "      <td>06:00:00</td>\n",
       "      <td>0</td>\n",
       "      <td>1</td>\n",
       "      <td>0</td>\n",
       "    </tr>\n",
       "    <tr>\n",
       "      <th>54-102-299-01</th>\n",
       "      <td>Ж</td>\n",
       "      <td>вдовец / вдова</td>\n",
       "      <td>европейская</td>\n",
       "      <td>Русские</td>\n",
       "      <td>Христианство</td>\n",
       "      <td>5 - ВУЗ</td>\n",
       "      <td>дипломированные специалисты</td>\n",
       "      <td>0</td>\n",
       "      <td>1</td>\n",
       "      <td>0</td>\n",
       "      <td>...</td>\n",
       "      <td>NaN</td>\n",
       "      <td>0</td>\n",
       "      <td>NaN</td>\n",
       "      <td>никогда не употреблял</td>\n",
       "      <td>NaN</td>\n",
       "      <td>22:30:00</td>\n",
       "      <td>08:30:00</td>\n",
       "      <td>0</td>\n",
       "      <td>1</td>\n",
       "      <td>0</td>\n",
       "    </tr>\n",
       "    <tr>\n",
       "      <th>54-102-138-01</th>\n",
       "      <td>Ж</td>\n",
       "      <td>никогда не был(а) в браке</td>\n",
       "      <td>европейская</td>\n",
       "      <td>Русские</td>\n",
       "      <td>Христианство</td>\n",
       "      <td>5 - ВУЗ</td>\n",
       "      <td>низкоквалифицированные работники</td>\n",
       "      <td>1</td>\n",
       "      <td>0</td>\n",
       "      <td>0</td>\n",
       "      <td>...</td>\n",
       "      <td>NaN</td>\n",
       "      <td>0</td>\n",
       "      <td>NaN</td>\n",
       "      <td>никогда не употреблял</td>\n",
       "      <td>NaN</td>\n",
       "      <td>22:00:00</td>\n",
       "      <td>06:30:00</td>\n",
       "      <td>0</td>\n",
       "      <td>0</td>\n",
       "      <td>0</td>\n",
       "    </tr>\n",
       "    <tr>\n",
       "      <th>54-601-033-01</th>\n",
       "      <td>Ж</td>\n",
       "      <td>в браке в настоящее время</td>\n",
       "      <td>европейская</td>\n",
       "      <td>Русские</td>\n",
       "      <td>Христианство</td>\n",
       "      <td>4 - профессиональное училище</td>\n",
       "      <td>операторы и монтажники установок и машинного о...</td>\n",
       "      <td>0</td>\n",
       "      <td>1</td>\n",
       "      <td>0</td>\n",
       "      <td>...</td>\n",
       "      <td>NaN</td>\n",
       "      <td>0</td>\n",
       "      <td>NaN</td>\n",
       "      <td>употребляю в настоящее время</td>\n",
       "      <td>20.0</td>\n",
       "      <td>22:00:00</td>\n",
       "      <td>07:00:00</td>\n",
       "      <td>0</td>\n",
       "      <td>0</td>\n",
       "      <td>0</td>\n",
       "    </tr>\n",
       "    <tr>\n",
       "      <th>54-602-054-01</th>\n",
       "      <td>Ж</td>\n",
       "      <td>в разводе</td>\n",
       "      <td>европейская</td>\n",
       "      <td>Русские</td>\n",
       "      <td>Христианство</td>\n",
       "      <td>4 - профессиональное училище</td>\n",
       "      <td>ведение домашнего хозяйства</td>\n",
       "      <td>0</td>\n",
       "      <td>1</td>\n",
       "      <td>0</td>\n",
       "      <td>...</td>\n",
       "      <td>10.0</td>\n",
       "      <td>0</td>\n",
       "      <td>NaN</td>\n",
       "      <td>употребляю в настоящее время</td>\n",
       "      <td>18.0</td>\n",
       "      <td>00:00:00</td>\n",
       "      <td>07:00:00</td>\n",
       "      <td>1</td>\n",
       "      <td>0</td>\n",
       "      <td>0</td>\n",
       "    </tr>\n",
       "  </tbody>\n",
       "</table>\n",
       "<p>5 rows × 32 columns</p>\n",
       "</div>"
      ],
      "text/plain": [
       "              Пол                      Семья        Этнос Национальность  \\\n",
       "ID                                                                         \n",
       "54-103-054-01   Ж  в браке в настоящее время  европейская        Русские   \n",
       "54-102-299-01   Ж             вдовец / вдова  европейская        Русские   \n",
       "54-102-138-01   Ж  никогда не был(а) в браке  европейская        Русские   \n",
       "54-601-033-01   Ж  в браке в настоящее время  европейская        Русские   \n",
       "54-602-054-01   Ж                  в разводе  европейская        Русские   \n",
       "\n",
       "                    Религия                   Образование  \\\n",
       "ID                                                          \n",
       "54-103-054-01  Христианство                       5 - ВУЗ   \n",
       "54-102-299-01  Христианство                       5 - ВУЗ   \n",
       "54-102-138-01  Христианство                       5 - ВУЗ   \n",
       "54-601-033-01  Христианство  4 - профессиональное училище   \n",
       "54-602-054-01  Христианство  4 - профессиональное училище   \n",
       "\n",
       "                                                       Профессия  \\\n",
       "ID                                                                 \n",
       "54-103-054-01                        дипломированные специалисты   \n",
       "54-102-299-01                        дипломированные специалисты   \n",
       "54-102-138-01                   низкоквалифицированные работники   \n",
       "54-601-033-01  операторы и монтажники установок и машинного о...   \n",
       "54-602-054-01                        ведение домашнего хозяйства   \n",
       "\n",
       "               Вы работаете?  Выход на пенсию  Прекращение работы по болезни  \\\n",
       "ID                                                                             \n",
       "54-103-054-01              1                0                              0   \n",
       "54-102-299-01              0                1                              0   \n",
       "54-102-138-01              1                0                              0   \n",
       "54-601-033-01              0                1                              0   \n",
       "54-602-054-01              0                1                              0   \n",
       "\n",
       "               ...  Сигарет в день  Пассивное курение  Частота пасс кур  \\\n",
       "ID             ...                                                        \n",
       "54-103-054-01  ...             NaN                  0               NaN   \n",
       "54-102-299-01  ...             NaN                  0               NaN   \n",
       "54-102-138-01  ...             NaN                  0               NaN   \n",
       "54-601-033-01  ...             NaN                  0               NaN   \n",
       "54-602-054-01  ...            10.0                  0               NaN   \n",
       "\n",
       "                                   Алкоголь  Возраст алког  Время засыпания  \\\n",
       "ID                                                                            \n",
       "54-103-054-01  употребляю в настоящее время           26.0         22:00:00   \n",
       "54-102-299-01         никогда не употреблял            NaN         22:30:00   \n",
       "54-102-138-01         никогда не употреблял            NaN         22:00:00   \n",
       "54-601-033-01  употребляю в настоящее время           20.0         22:00:00   \n",
       "54-602-054-01  употребляю в настоящее время           18.0         00:00:00   \n",
       "\n",
       "               Время пробуждения  Сон после обеда  Спорт, клубы  \\\n",
       "ID                                                                \n",
       "54-103-054-01           06:00:00                0             1   \n",
       "54-102-299-01           08:30:00                0             1   \n",
       "54-102-138-01           06:30:00                0             0   \n",
       "54-601-033-01           07:00:00                0             0   \n",
       "54-602-054-01           07:00:00                1             0   \n",
       "\n",
       "               Религия, клубы  \n",
       "ID                             \n",
       "54-103-054-01               0  \n",
       "54-102-299-01               0  \n",
       "54-102-138-01               0  \n",
       "54-601-033-01               0  \n",
       "54-602-054-01               0  \n",
       "\n",
       "[5 rows x 32 columns]"
      ]
     },
     "execution_count": 304,
     "metadata": {},
     "output_type": "execute_result"
    }
   ],
   "source": [
    "train_data.head()"
   ]
  },
  {
   "cell_type": "code",
   "execution_count": 305,
   "metadata": {},
   "outputs": [],
   "source": [
    "real_pipe = Pipeline([\n",
    "    ('imputer', SimpleImputer()),\n",
    "    ('scaler', StandardScaler())\n",
    "]\n",
    ")"
   ]
  },
  {
   "cell_type": "code",
   "execution_count": 306,
   "metadata": {},
   "outputs": [],
   "source": [
    "cat_pipe = Pipeline([\n",
    "    ('imputer', SimpleImputer(strategy='constant', fill_value='NA')),\n",
    "    ('ohe', OneHotEncoder(handle_unknown='ignore', sparse=False))\n",
    "])"
   ]
  },
  {
   "cell_type": "code",
   "execution_count": 307,
   "metadata": {},
   "outputs": [],
   "source": [
    "import category_encoders as ce"
   ]
  },
  {
   "cell_type": "code",
   "execution_count": 308,
   "metadata": {},
   "outputs": [],
   "source": [
    "preprocess_pipe = ColumnTransformer(transformers=[\n",
    "    ('real_cols', real_pipe, cfg.REAL_COLS),\n",
    "    ('cat_cols', cat_pipe, cfg.CAT_COLS),\n",
    "    ('woe_cat_cols',ce.WOEEncoder(),cfg.CAT_COLS),\n",
    "    ('ohe_cols', 'passthrough', cfg.OHE_COLS)\n",
    "]\n",
    ")"
   ]
  },
  {
   "cell_type": "code",
   "execution_count": 309,
   "metadata": {},
   "outputs": [],
   "source": [
    "model = LinearSVC()"
   ]
  },
  {
   "cell_type": "code",
   "execution_count": 310,
   "metadata": {},
   "outputs": [],
   "source": [
    "model_pipe = Pipeline([\n",
    "    ('preprocess', preprocess_pipe),\n",
    "    ('model', model)\n",
    "]\n",
    ")"
   ]
  },
  {
   "cell_type": "code",
   "execution_count": 311,
   "metadata": {},
   "outputs": [],
   "source": [
    "multiout_model_pipe = MultiOutputClassifier(model_pipe, n_jobs=4)"
   ]
  },
  {
   "cell_type": "code",
   "execution_count": 312,
   "metadata": {},
   "outputs": [
    {
     "name": "stderr",
     "output_type": "stream",
     "text": [
      "c:\\Users\\User\\anaconda3\\lib\\site-packages\\sklearn\\metrics\\_classification.py:1580: UndefinedMetricWarning: F-score is ill-defined and being set to 0.0 in samples with no true nor predicted labels. Use `zero_division` parameter to control this behavior.\n",
      "  _warn_prf(average, \"true nor predicted\", \"F-score is\", len(true_sum))\n",
      "c:\\Users\\User\\anaconda3\\lib\\site-packages\\sklearn\\metrics\\_classification.py:1580: UndefinedMetricWarning: F-score is ill-defined and being set to 0.0 in samples with no true nor predicted labels. Use `zero_division` parameter to control this behavior.\n",
      "  _warn_prf(average, \"true nor predicted\", \"F-score is\", len(true_sum))\n",
      "c:\\Users\\User\\anaconda3\\lib\\site-packages\\sklearn\\metrics\\_classification.py:1580: UndefinedMetricWarning: F-score is ill-defined and being set to 0.0 in samples with no true nor predicted labels. Use `zero_division` parameter to control this behavior.\n",
      "  _warn_prf(average, \"true nor predicted\", \"F-score is\", len(true_sum))\n"
     ]
    }
   ],
   "source": [
    "scores = cross_val_score(\n",
    "    estimator=multiout_model_pipe,\n",
    "    X=train_data,\n",
    "    y=train_target,\n",
    "    scoring='f1_samples',\n",
    "    cv=3,\n",
    "    n_jobs=1\n",
    ")"
   ]
  },
  {
   "cell_type": "code",
   "execution_count": 313,
   "metadata": {},
   "outputs": [
    {
     "data": {
      "text/plain": [
       "array([0.24287582, 0.21764706, 0.23425197])"
      ]
     },
     "execution_count": 313,
     "metadata": {},
     "output_type": "execute_result"
    }
   ],
   "source": [
    "scores"
   ]
  },
  {
   "cell_type": "code",
   "execution_count": 314,
   "metadata": {},
   "outputs": [],
   "source": [
    "d = pd.DataFrame()\n",
    "def metric(val_target, val_data, name, d = d): \n",
    "\n",
    "    a = accuracy_score(pd.DataFrame(val_target), val_data)\n",
    "    r = recall_score(pd.DataFrame(val_target), val_data, average='samples')\n",
    "    p = precision_score(pd.DataFrame(val_target), val_data, average='samples')\n",
    "    f1 =f1_score(pd.DataFrame(val_target), val_data, average='samples')\n",
    "    df = pd.DataFrame({\"Accuracy\":([a]), \"Recall\":([r]) , \"Precision\":([p]), \"F1\":([f1])}, index=[name])\n",
    "    return df"
   ]
  },
  {
   "cell_type": "code",
   "execution_count": 315,
   "metadata": {},
   "outputs": [],
   "source": [
    "train_data_transform = preprocess_pipe.fit_transform(train_data)\n",
    "val_data = preprocess_pipe.transform(val_data)"
   ]
  },
  {
   "cell_type": "code",
   "execution_count": 316,
   "metadata": {},
   "outputs": [],
   "source": [
    "from catboost import CatBoostClassifier, Pool"
   ]
  },
  {
   "cell_type": "code",
   "execution_count": 317,
   "metadata": {},
   "outputs": [],
   "source": [
    "pool = Pool(train_data_transform, train_target)"
   ]
  },
  {
   "cell_type": "code",
   "execution_count": 318,
   "metadata": {},
   "outputs": [],
   "source": [
    "catboost = CatBoostClassifier(iterations=100, loss_function='MultiLogloss', custom_metric=['Recall', \"F1\", \"Precision\"], silent=True).fit(pd.DataFrame(train_data_transform),pd.DataFrame(train_target))"
   ]
  },
  {
   "cell_type": "code",
   "execution_count": 319,
   "metadata": {},
   "outputs": [
    {
     "data": {
      "application/vnd.jupyter.widget-view+json": {
       "model_id": "af220684b74144908053186624309151",
       "version_major": 2,
       "version_minor": 0
      },
      "text/plain": [
       "MetricVisualizer(layout=Layout(align_self='stretch', height='500px'))"
      ]
     },
     "metadata": {},
     "output_type": "display_data"
    },
    {
     "data": {
      "text/plain": [
       "<catboost.core.CatBoostClassifier at 0x18a0bd3aa90>"
      ]
     },
     "execution_count": 319,
     "metadata": {},
     "output_type": "execute_result"
    }
   ],
   "source": [
    "catboost.fit(pool, verbose=False, plot=True)"
   ]
  },
  {
   "cell_type": "code",
   "execution_count": 320,
   "metadata": {},
   "outputs": [],
   "source": [
    "logistic = MultiOutputClassifier(LogisticRegression(solver=\"liblinear\", class_weight='balanced', max_iter=100)).fit(pd.DataFrame(train_data_transform),pd.DataFrame(train_target))"
   ]
  },
  {
   "cell_type": "code",
   "execution_count": 321,
   "metadata": {},
   "outputs": [
    {
     "name": "stdout",
     "output_type": "stream",
     "text": [
      "3\n",
      "3\n"
     ]
    },
    {
     "name": "stderr",
     "output_type": "stream",
     "text": [
      "c:\\Users\\User\\anaconda3\\lib\\site-packages\\sklearn\\metrics\\_classification.py:1318: UndefinedMetricWarning: Recall is ill-defined and being set to 0.0 in samples with no true labels. Use `zero_division` parameter to control this behavior.\n",
      "  _warn_prf(average, modifier, msg_start, len(result))\n",
      "c:\\Users\\User\\anaconda3\\lib\\site-packages\\sklearn\\metrics\\_classification.py:1318: UndefinedMetricWarning: Precision is ill-defined and being set to 0.0 in samples with no predicted labels. Use `zero_division` parameter to control this behavior.\n",
      "  _warn_prf(average, modifier, msg_start, len(result))\n",
      "c:\\Users\\User\\anaconda3\\lib\\site-packages\\sklearn\\metrics\\_classification.py:1580: UndefinedMetricWarning: F-score is ill-defined and being set to 0.0 in samples with no true nor predicted labels. Use `zero_division` parameter to control this behavior.\n",
      "  _warn_prf(average, \"true nor predicted\", \"F-score is\", len(true_sum))\n",
      "c:\\Users\\User\\anaconda3\\lib\\site-packages\\sklearn\\metrics\\_classification.py:1318: UndefinedMetricWarning: Recall is ill-defined and being set to 0.0 in samples with no true labels. Use `zero_division` parameter to control this behavior.\n",
      "  _warn_prf(average, modifier, msg_start, len(result))\n",
      "c:\\Users\\User\\anaconda3\\lib\\site-packages\\sklearn\\metrics\\_classification.py:1318: UndefinedMetricWarning: Precision is ill-defined and being set to 0.0 in samples with no predicted labels. Use `zero_division` parameter to control this behavior.\n",
      "  _warn_prf(average, modifier, msg_start, len(result))\n",
      "c:\\Users\\User\\anaconda3\\lib\\site-packages\\sklearn\\metrics\\_classification.py:1580: UndefinedMetricWarning: F-score is ill-defined and being set to 0.0 in samples with no true nor predicted labels. Use `zero_division` parameter to control this behavior.\n",
      "  _warn_prf(average, \"true nor predicted\", \"F-score is\", len(true_sum))\n"
     ]
    }
   ],
   "source": [
    "utils.save_as_pickle(metric(val_target, catboost.predict(val_data), \"CatBoost\"), \"../data/processed/metric_catboost.pkl\")\n",
    "utils.save_as_pickle(metric(val_target, logistic.predict(val_data), \"LogisticRegression\"), \"../data/processed/metric_logistic.pkl\")"
   ]
  },
  {
   "cell_type": "code",
   "execution_count": 322,
   "metadata": {},
   "outputs": [
    {
     "data": {
      "text/html": [
       "<div>\n",
       "<style scoped>\n",
       "    .dataframe tbody tr th:only-of-type {\n",
       "        vertical-align: middle;\n",
       "    }\n",
       "\n",
       "    .dataframe tbody tr th {\n",
       "        vertical-align: top;\n",
       "    }\n",
       "\n",
       "    .dataframe thead th {\n",
       "        text-align: right;\n",
       "    }\n",
       "</style>\n",
       "<table border=\"1\" class=\"dataframe\">\n",
       "  <thead>\n",
       "    <tr style=\"text-align: right;\">\n",
       "      <th></th>\n",
       "      <th>Accuracy</th>\n",
       "      <th>Recall</th>\n",
       "      <th>Precision</th>\n",
       "      <th>F1</th>\n",
       "    </tr>\n",
       "  </thead>\n",
       "  <tbody>\n",
       "    <tr>\n",
       "      <th>CatBoost</th>\n",
       "      <td>0.513089</td>\n",
       "      <td>0.267888</td>\n",
       "      <td>0.356021</td>\n",
       "      <td>0.293019</td>\n",
       "    </tr>\n",
       "  </tbody>\n",
       "</table>\n",
       "</div>"
      ],
      "text/plain": [
       "          Accuracy    Recall  Precision        F1\n",
       "CatBoost  0.513089  0.267888   0.356021  0.293019"
      ]
     },
     "execution_count": 322,
     "metadata": {},
     "output_type": "execute_result"
    }
   ],
   "source": [
    "pd.read_pickle('../data/processed/metric_catboost.pkl')"
   ]
  },
  {
   "cell_type": "code",
   "execution_count": 323,
   "metadata": {},
   "outputs": [
    {
     "data": {
      "text/html": [
       "<div>\n",
       "<style scoped>\n",
       "    .dataframe tbody tr th:only-of-type {\n",
       "        vertical-align: middle;\n",
       "    }\n",
       "\n",
       "    .dataframe tbody tr th {\n",
       "        vertical-align: top;\n",
       "    }\n",
       "\n",
       "    .dataframe thead th {\n",
       "        text-align: right;\n",
       "    }\n",
       "</style>\n",
       "<table border=\"1\" class=\"dataframe\">\n",
       "  <thead>\n",
       "    <tr style=\"text-align: right;\">\n",
       "      <th></th>\n",
       "      <th>Accuracy</th>\n",
       "      <th>Recall</th>\n",
       "      <th>Precision</th>\n",
       "      <th>F1</th>\n",
       "    </tr>\n",
       "  </thead>\n",
       "  <tbody>\n",
       "    <tr>\n",
       "      <th>LogisticRegression</th>\n",
       "      <td>0.235602</td>\n",
       "      <td>0.367801</td>\n",
       "      <td>0.207243</td>\n",
       "      <td>0.248604</td>\n",
       "    </tr>\n",
       "  </tbody>\n",
       "</table>\n",
       "</div>"
      ],
      "text/plain": [
       "                    Accuracy    Recall  Precision        F1\n",
       "LogisticRegression  0.235602  0.367801   0.207243  0.248604"
      ]
     },
     "execution_count": 323,
     "metadata": {},
     "output_type": "execute_result"
    }
   ],
   "source": [
    "pd.read_pickle('../data/processed/metric_logistic.pkl')"
   ]
  },
  {
   "cell_type": "code",
   "execution_count": 324,
   "metadata": {},
   "outputs": [
    {
     "name": "stdout",
     "output_type": "stream",
     "text": [
      "1\n",
      "../models\\catboost.pkl\n"
     ]
    }
   ],
   "source": [
    "import os\n",
    "import time\n",
    "from src import utils\n",
    "\n",
    "model_path = '../models'\n",
    "report_path = '../reports'\n",
    "pp_catboost = utils.save_as_pickle(catboost, os.path.join(model_path, 'catboost.pkl'))\n",
    "print(os.path.join(model_path, 'catboost.pkl'))"
   ]
  },
  {
   "cell_type": "markdown",
   "metadata": {},
   "source": [
    "INFERENCE"
   ]
  },
  {
   "cell_type": "code",
   "execution_count": 325,
   "metadata": {},
   "outputs": [],
   "source": [
    "model_path = '../models'\n",
    "report_path = '../reports'\n",
    "pp = utils.load_model(os.path.join(model_path, 'catboost.pkl'))"
   ]
  },
  {
   "cell_type": "code",
   "execution_count": 326,
   "metadata": {},
   "outputs": [],
   "source": [
    "processed_data_path = '../data/processed/'\n",
    "test = pd.read_pickle(os.path.join(processed_data_path, 'test.pkl'))"
   ]
  },
  {
   "cell_type": "code",
   "execution_count": 327,
   "metadata": {},
   "outputs": [],
   "source": [
    "models_cb = [\n",
    "    'catboost',\n",
    "]"
   ]
  },
  {
   "cell_type": "code",
   "execution_count": 328,
   "metadata": {},
   "outputs": [],
   "source": [
    "for name in models_cb:\n",
    "    model = utils.load_model(os.path.join(model_path, name + '.pkl'))\n",
    "    y_pred = model.predict(preprocess_pipe.transform(train))\n",
    "    pd.DataFrame(y_pred).to_csv(os.path.join(report_path, f'{name}_{time.time()}.csv'))"
   ]
  },
  {
   "cell_type": "code",
   "execution_count": 329,
   "metadata": {},
   "outputs": [],
   "source": [
    "cb_test = test.copy()\n",
    "cb_test[cfg.REAL_COLS] = cb_test[cfg.REAL_COLS].astype(str)"
   ]
  },
  {
   "cell_type": "code",
   "execution_count": 330,
   "metadata": {},
   "outputs": [],
   "source": [
    "for name in models_cb:\n",
    "    model = utils.load_model(os.path.join(model_path, name + '.pkl'))\n",
    "    y_pred = model.predict(val_data)\n",
    "    pd.DataFrame(y_pred).to_csv(os.path.join(report_path, f'{name}_{time.time()}.csv'))"
   ]
  }
 ],
 "metadata": {
  "kernelspec": {
   "display_name": "Python 3.9.12 ('base')",
   "language": "python",
   "name": "python3"
  },
  "language_info": {
   "codemirror_mode": {
    "name": "ipython",
    "version": 3
   },
   "file_extension": ".py",
   "mimetype": "text/x-python",
   "name": "python",
   "nbconvert_exporter": "python",
   "pygments_lexer": "ipython3",
   "version": "3.9.12"
  },
  "orig_nbformat": 4,
  "vscode": {
   "interpreter": {
    "hash": "f08154012ddadd8e950e6e9e035c7a7b32c136e7647e9b7c77e02eb723a8bedb"
   }
  }
 },
 "nbformat": 4,
 "nbformat_minor": 2
}
